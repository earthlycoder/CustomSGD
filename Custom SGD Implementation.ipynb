{
 "cells": [
  {
   "cell_type": "markdown",
   "metadata": {},
   "source": [
    "References\n",
    "--\n",
    "https://www.kaggle.com/arpandas65/simple-sgd-implementation-of-linear-regression\n",
    "\n",
    "https://www.kaggle.com/babarohitk/boston-house-prices-from-sklearn-datasets/edit"
   ]
  },
  {
   "cell_type": "code",
   "execution_count": 119,
   "metadata": {
    "colab": {},
    "colab_type": "code",
    "id": "REYPoTJ1Af7u"
   },
   "outputs": [],
   "source": [
    "import warnings\n",
    "warnings.filterwarnings(\"ignore\")\n",
    "from sklearn.datasets import load_boston\n",
    "from math import log\n",
    "from prettytable import PrettyTable\n",
    "import itertools\n",
    "import math\n",
    "import pandas as pd\n",
    "import numpy as np\n",
    "import matplotlib.pyplot as plt\n",
    "from prettytable import PrettyTable\n",
    "from sklearn.linear_model import SGDRegressor\n",
    "from sklearn import preprocessing\n",
    "from sklearn.metrics import mean_squared_error\n",
    "from sklearn.model_selection import train_test_split"
   ]
  },
  {
   "cell_type": "markdown",
   "metadata": {},
   "source": [
    "## Data Frame"
   ]
  },
  {
   "cell_type": "code",
   "execution_count": 207,
   "metadata": {},
   "outputs": [
    {
     "data": {
      "text/html": [
       "<div>\n",
       "<style scoped>\n",
       "    .dataframe tbody tr th:only-of-type {\n",
       "        vertical-align: middle;\n",
       "    }\n",
       "\n",
       "    .dataframe tbody tr th {\n",
       "        vertical-align: top;\n",
       "    }\n",
       "\n",
       "    .dataframe thead th {\n",
       "        text-align: right;\n",
       "    }\n",
       "</style>\n",
       "<table border=\"1\" class=\"dataframe\">\n",
       "  <thead>\n",
       "    <tr style=\"text-align: right;\">\n",
       "      <th></th>\n",
       "      <th>CRIM</th>\n",
       "      <th>ZN</th>\n",
       "      <th>INDUS</th>\n",
       "      <th>CHAS</th>\n",
       "      <th>NOX</th>\n",
       "      <th>RM</th>\n",
       "      <th>AGE</th>\n",
       "      <th>DIS</th>\n",
       "      <th>RAD</th>\n",
       "      <th>TAX</th>\n",
       "      <th>PTRATIO</th>\n",
       "      <th>B</th>\n",
       "      <th>LSTAT</th>\n",
       "    </tr>\n",
       "  </thead>\n",
       "  <tbody>\n",
       "    <tr>\n",
       "      <th>0</th>\n",
       "      <td>0.00632</td>\n",
       "      <td>18.0</td>\n",
       "      <td>2.31</td>\n",
       "      <td>0.0</td>\n",
       "      <td>0.538</td>\n",
       "      <td>6.575</td>\n",
       "      <td>65.2</td>\n",
       "      <td>4.0900</td>\n",
       "      <td>1.0</td>\n",
       "      <td>296.0</td>\n",
       "      <td>15.3</td>\n",
       "      <td>396.90</td>\n",
       "      <td>4.98</td>\n",
       "    </tr>\n",
       "    <tr>\n",
       "      <th>1</th>\n",
       "      <td>0.02731</td>\n",
       "      <td>0.0</td>\n",
       "      <td>7.07</td>\n",
       "      <td>0.0</td>\n",
       "      <td>0.469</td>\n",
       "      <td>6.421</td>\n",
       "      <td>78.9</td>\n",
       "      <td>4.9671</td>\n",
       "      <td>2.0</td>\n",
       "      <td>242.0</td>\n",
       "      <td>17.8</td>\n",
       "      <td>396.90</td>\n",
       "      <td>9.14</td>\n",
       "    </tr>\n",
       "    <tr>\n",
       "      <th>2</th>\n",
       "      <td>0.02729</td>\n",
       "      <td>0.0</td>\n",
       "      <td>7.07</td>\n",
       "      <td>0.0</td>\n",
       "      <td>0.469</td>\n",
       "      <td>7.185</td>\n",
       "      <td>61.1</td>\n",
       "      <td>4.9671</td>\n",
       "      <td>2.0</td>\n",
       "      <td>242.0</td>\n",
       "      <td>17.8</td>\n",
       "      <td>392.83</td>\n",
       "      <td>4.03</td>\n",
       "    </tr>\n",
       "  </tbody>\n",
       "</table>\n",
       "</div>"
      ],
      "text/plain": [
       "      CRIM    ZN  INDUS  CHAS    NOX     RM   AGE     DIS  RAD    TAX  \\\n",
       "0  0.00632  18.0   2.31   0.0  0.538  6.575  65.2  4.0900  1.0  296.0   \n",
       "1  0.02731   0.0   7.07   0.0  0.469  6.421  78.9  4.9671  2.0  242.0   \n",
       "2  0.02729   0.0   7.07   0.0  0.469  7.185  61.1  4.9671  2.0  242.0   \n",
       "\n",
       "   PTRATIO       B  LSTAT  \n",
       "0     15.3  396.90   4.98  \n",
       "1     17.8  396.90   9.14  \n",
       "2     17.8  392.83   4.03  "
      ]
     },
     "execution_count": 207,
     "metadata": {},
     "output_type": "execute_result"
    }
   ],
   "source": [
    "boston_data=pd.DataFrame(load_boston().data,columns=load_boston().feature_names)\n",
    "boston_data.head(3)"
   ]
  },
  {
   "cell_type": "markdown",
   "metadata": {},
   "source": [
    "## SkLearn Implementation of SGD"
   ]
  },
  {
   "cell_type": "code",
   "execution_count": 208,
   "metadata": {
    "colab": {},
    "colab_type": "code",
    "id": "NTQ2iH-kAwbo"
   },
   "outputs": [
    {
     "data": {
      "text/plain": [
       "numpy.ndarray"
      ]
     },
     "execution_count": 208,
     "metadata": {},
     "output_type": "execute_result"
    }
   ],
   "source": [
    "# Loading the data from Boston house prices dataset in sklearn library\n",
    "X = load_boston().data\n",
    "Y = load_boston().target\n",
    "type(X)"
   ]
  },
  {
   "cell_type": "code",
   "execution_count": 209,
   "metadata": {},
   "outputs": [],
   "source": [
    "# Splitting Data to Train(70%) and Test(30%)\n",
    "X_train, X_test, Y_train, Y_test = train_test_split(X, Y, test_size=0.3)"
   ]
  },
  {
   "cell_type": "code",
   "execution_count": 210,
   "metadata": {
    "colab": {},
    "colab_type": "code",
    "id": "FgUW39s6Be0U"
   },
   "outputs": [],
   "source": [
    "# Standardization\n",
    "scale = preprocessing.StandardScaler().fit(X_train)\n",
    "X_train = scale.transform(X_train)\n",
    "X_train = np.array(X_train)\n",
    "X_test = scale.transform(X_test)\n",
    "X_test = np.array(X_test)"
   ]
  },
  {
   "cell_type": "code",
   "execution_count": 211,
   "metadata": {
    "colab": {
     "base_uri": "https://localhost:8080/",
     "height": 34
    },
    "colab_type": "code",
    "executionInfo": {
     "elapsed": 879,
     "status": "ok",
     "timestamp": 1545718892607,
     "user": {
      "displayName": "Applied AI Course",
      "photoUrl": "https://lh5.googleusercontent.com/-9_3A9F-kDXs/AAAAAAAAAAI/AAAAAAAAACw/IprjYvUuoXQ/s64/photo.jpg",
      "userId": "00484516897554883881"
     },
     "user_tz": -330
    },
    "id": "HNu1sXtEBBS2",
    "outputId": "a0c5d3d0-345c-4a34-8ccf-0d9f3d7d23fd"
   },
   "outputs": [
    {
     "name": "stdout",
     "output_type": "stream",
     "text": [
      "MSE : 18.157639814844508\n",
      "No. of Features : 13\n"
     ]
    }
   ],
   "source": [
    "# SGD Implementation\n",
    "Sgd1 = SGDRegressor()\n",
    "Sgd1.fit(X_train, Y_train)\n",
    "\n",
    "print(\"MSE :\",mean_squared_error(Y_test, Sgd1.predict(X_test)))\n",
    "MSE1 = mean_squared_error(Y_test, Sgd1.predict(X_test))\n",
    "Weights1=Sgd1.coef_\n",
    "print(\"No. of Features :\",Weights1.size)"
   ]
  },
  {
   "cell_type": "markdown",
   "metadata": {},
   "source": [
    "## Function for Custom SGD"
   ]
  },
  {
   "cell_type": "code",
   "execution_count": 218,
   "metadata": {},
   "outputs": [
    {
     "data": {
      "text/plain": [
       "0.003"
      ]
     },
     "execution_count": 218,
     "metadata": {},
     "output_type": "execute_result"
    }
   ],
   "source": [
    "round(0.0025,3)"
   ]
  },
  {
   "cell_type": "code",
   "execution_count": 336,
   "metadata": {},
   "outputs": [],
   "source": [
    "# Converting Numpy array to Pandas dataframe to access Boston.data,boston.target and also using Sample function.\n",
    "X_Train_Df=pd.DataFrame(X_train)\n",
    "X_Train_Df['price']=Y_train\n",
    "\n",
    "\n",
    "# Custom SGD Function\n",
    "def CustomSGD(X_Train_Df,learning_rate,total_Loops=1000,k=10):\n",
    "    #Initialising weights row vector in the shape 1,13(No of features)\n",
    "    \n",
    "    W=np.zeros(shape=(1,Weights1.shape[0]))\n",
    "    b=0\n",
    "    loop_Number=1\n",
    "    while(loop_Number<=total_Loops):\n",
    "        w_var=W\n",
    "        b_var=b\n",
    "        \n",
    "        #Temporary looping variables for Weights and b\n",
    "        w_temp=np.zeros(shape=(1,Weights1.shape[0]))\n",
    "        b_temp=0\n",
    "        \n",
    "        #Choosing a sample of K form data\n",
    "        temp=X_Train_Df.sample(k)\n",
    "        y=np.array(temp['price'])\n",
    "        x=np.array(temp.drop('price',axis=1))\n",
    "        for i in range(k):\n",
    "            w_temp+=x[i]*(y[i]-(np.dot(w_var,x[i])+b_var))*(-2/k)\n",
    "            b_temp+=(y[i]-(np.dot(w_var,x[i])+b_var))*(-2/k)\n",
    "            \n",
    "        W = w_var-learning_rate*w_temp\n",
    "        b = b_var-learning_rate*b_temp\n",
    "        \n",
    "#       Exit condition(if change is very low from previous weights to initial weights, exit)\n",
    "        if(w_var==W).all():\n",
    "               break\n",
    "        loop_Number+=1\n",
    "#         countIter=0\n",
    "#         for (a,b) in np.nditer([w_var,W]):            \n",
    "#             if round(abs(a-b),4) == 0:\n",
    "#                 #print(\"Iteration is one: \",loop_Number)\n",
    "#                 countIter+=1\n",
    "#                 if countIter>11:\n",
    "#                     #print(\"Iteration is : \",loop_Number)\n",
    "#                     #print(a,\"    \",b)\n",
    "#                     break\n",
    "#         loop_Number+=1\n",
    "        \n",
    "    return W,b\n",
    "\n",
    "# Function to calculate predicted Y and convert to scalar values\n",
    "def convertToScalar(x,w,b):\n",
    "    Y_pred=[]\n",
    "    for i in range(len(x)):\n",
    "        y=np.ndarray.item(np.dot(w,x[i])+b) \n",
    "        Y_pred.append(y)\n",
    "    return np.array(Y_pred)"
   ]
  },
  {
   "cell_type": "markdown",
   "metadata": {},
   "source": [
    "## Finding Optimal Learning Rate(r)"
   ]
  },
  {
   "cell_type": "code",
   "execution_count": 334,
   "metadata": {},
   "outputs": [],
   "source": [
    "# Splitting data to Train and CV\n",
    "\n",
    "x1_train,x1_test,y1_train,y1_test=train_test_split(X,Y,test_size=0.3)\n",
    "x1_train,x1_cv,y1_train_,y1_cv_=train_test_split(x1_train,y1_train,test_size=0.3)\n",
    "scaler = preprocessing.StandardScaler().fit(x1_train)\n",
    "x1_train = scaler.transform(x1_train)\n",
    "x1_cv=scaler.transform(x1_cv)\n",
    "\n",
    "x1_train_=np.array(x1_train)\n",
    "x1_train_data=pd.DataFrame(x1_train)\n",
    "x1_train_data['price']=y1_train_\n",
    "\n",
    "x1_cv_=np.array(x1_cv)\n",
    "x1_cv_data=pd.DataFrame(x1_cv_)\n",
    "x1_cv_data['price']=y1_cv_\n",
    "\n",
    "\n",
    "def OptimalLearningRate():\n",
    "    \n",
    "    MSE_Table=PrettyTable()\n",
    "    MSE_Table.field_names=['MSE(Train)','Learning Rate(Train)']\n",
    "    MSE_TableCv=PrettyTable()\n",
    "    MSE_TableCv.field_names=['MSE(CV)','Learning Rate(CV)']\n",
    "    \n",
    "    min_mse=100000\n",
    "    min_mseCv=100000\n",
    "    Optimal_r=0\n",
    "    Optimal_rCv=0\n",
    "    train_error=[]\n",
    "    cv_error=[]\n",
    "    r=[0.00001,0.0001,0.001,0.01,0.1]\n",
    "    \n",
    "    for itr in r:\n",
    "        \n",
    "        #Train Data\n",
    "        w,b=CustomSGD(x1_train_data,learning_rate=itr,total_Loops=1000)\n",
    "        y1_pred_train=convertToScalar(x1_train_,w,b)\n",
    "        train_error.append(mean_squared_error(y1_train_,y1_pred_train))\n",
    "        mse_tr=mean_squared_error(y1_train_,y1_pred_train)\n",
    "        MSE_Table.add_row([mse_tr,itr])\n",
    "        \n",
    "        if(mse_tr<min_mse):\n",
    "            min_mse=mse_tr\n",
    "            Optimal_r=itr\n",
    "        \n",
    "        #Cross validaion Data\n",
    "        w,b=CustomSGD(x1_cv_data,learning_rate=itr,total_Loops=1000)\n",
    "        y1_pred_cv=convertToScalar(x1_cv,w,b)\n",
    "        cv_error.append(mean_squared_error(y1_cv_,y1_pred_cv))\n",
    "        mse_cv=mean_squared_error(y1_cv_,y1_pred_cv)\n",
    "        MSE_TableCv.add_row([mse_cv,itr])\n",
    "            \n",
    "        if(mse_cv<min_mseCv):\n",
    "            min_mseCv=mse_cv\n",
    "            Optimal_rCv=itr\n",
    "            \n",
    "    print(MSE_Table)\n",
    "    print(MSE_TableCv)\n",
    "    return train_error,cv_error,min_mse,Optimal_r,min_mseCv,Optimal_rCv\n"
   ]
  },
  {
   "cell_type": "code",
   "execution_count": 335,
   "metadata": {},
   "outputs": [
    {
     "name": "stdout",
     "output_type": "stream",
     "text": [
      "+--------------------+----------------------+\n",
      "|     MSE(Train)     | Learning Rate(Train) |\n",
      "+--------------------+----------------------+\n",
      "| 538.0288121545107  |        1e-05         |\n",
      "| 370.93528034917784 |        0.0001        |\n",
      "| 33.660884652887475 |        0.001         |\n",
      "| 23.20461760114213  |         0.01         |\n",
      "| 27.153400023946872 |         0.1          |\n",
      "+--------------------+----------------------+\n",
      "+--------------------+-------------------+\n",
      "|      MSE(CV)       | Learning Rate(CV) |\n",
      "+--------------------+-------------------+\n",
      "| 596.1439679388299  |       1e-05       |\n",
      "| 367.07921884210316 |       0.0001      |\n",
      "| 23.399067562243935 |       0.001       |\n",
      "| 15.281535233864547 |        0.01       |\n",
      "| 18.505922553811473 |        0.1        |\n",
      "+--------------------+-------------------+\n",
      "Minimum MSE(Train) is : 23.20461760114213    Optimal Learning Rate(r) is : 0.01\n",
      "Minimum MSE(cv) is : 15.281535233864547    Optimal Learning Rate(r) is : 0.01\n"
     ]
    }
   ],
   "source": [
    "train_error,cv_error,min_mse,Optimal_r,min_mseCv,Optimal_rCv=OptimalLearningRate()\n",
    "print(\"Minimum MSE(Train) is :\",min_mse,\"   Optimal Learning Rate(r) is :\",Optimal_r)\n",
    "print(\"Minimum MSE(cv) is :\",min_mseCv,\"   Optimal Learning Rate(r) is :\",Optimal_rCv)"
   ]
  },
  {
   "cell_type": "code",
   "execution_count": 257,
   "metadata": {},
   "outputs": [
    {
     "data": {
      "image/png": "[encoded data removed]",
      "text/plain": [
       "<Figure size 432x288 with 1 Axes>"
      ]
     },
     "metadata": {},
     "output_type": "display_data"
    }
   ],
   "source": [
    " # plotting obtained values\n",
    "r=[0.00001,0.0001,0.001,0.01,0.1]\n",
    "x1=[math.log10(i) for i in r]\n",
    "plt.plot(x1,train_error,label='Train MSE')\n",
    "plt.plot(x1,cv_error,label='CV MSE')\n",
    "plt.scatter(x1,train_error)\n",
    "plt.scatter(x1,cv_error)\n",
    "plt.legend()\n",
    "plt.title('Log(r) vs MSE')\n",
    "plt.xlabel('Log(Learning_Rate)')\n",
    "plt.ylabel('Mean Squared Error')\n",
    "plt.grid()\n",
    "plt.show()"
   ]
  },
  {
   "cell_type": "markdown",
   "metadata": {},
   "source": [
    "Observations\n",
    "-------------------\n",
    "*From the graph above, optimal learning rate is at r=0.01 with least Mean squared error.\n",
    "\n",
    "*But we are getting better difference between CustomSGD and SklearnSGD with r=0.001\n",
    "\n",
    "*Hence let us consider r=0.001 "
   ]
  },
  {
   "cell_type": "markdown",
   "metadata": {},
   "source": [
    "## Custom Implementation of SGD with Optimal Learning Rate(r)"
   ]
  },
  {
   "cell_type": "code",
   "execution_count": 337,
   "metadata": {},
   "outputs": [
    {
     "name": "stdout",
     "output_type": "stream",
     "text": [
      "Sklearn MSE:  18.157639814844508\n",
      "CustomSGD MSE:  19.38334778459909\n"
     ]
    }
   ],
   "source": [
    "# CustomSGD with Optimal learning rate\n",
    "Weights2,b=CustomSGD(X_Train_Df,learning_rate=0.01,total_Loops=1000)\n",
    "Y_pred=convertToScalar(X_test,Weights2,b)\n",
    "MSE2=mean_squared_error(Y_test, Y_pred)\n",
    "print(\"Sklearn MSE: \",MSE1)\n",
    "print(\"CustomSGD MSE: \",MSE2)"
   ]
  },
  {
   "cell_type": "markdown",
   "metadata": {},
   "source": [
    "## Comparision of Models"
   ]
  },
  {
   "cell_type": "code",
   "execution_count": 262,
   "metadata": {},
   "outputs": [
    {
     "data": {
      "image/png": "[encoded data removed]",
      "text/plain": [
       "<Figure size 648x360 with 2 Axes>"
      ]
     },
     "metadata": {},
     "output_type": "display_data"
    }
   ],
   "source": [
    "# Comparing two Graphs\n",
    "fig, axes = plt.subplots(nrows=1, ncols=2, figsize=(9, 5))\n",
    "axes[0].scatter(Y_test, Y_pred,c=\"Maroon\",marker=r'$\\clubsuit$')\n",
    "axes[0].grid()\n",
    "axes[0].title.set_text('Actual vs Predicted Prices(CustomSGD)')\n",
    "axes[0].set_xlabel('Actual Prices')\n",
    "axes[0].set_ylabel('Predicted Prices')\n",
    "axes[1].scatter(Y_test, Sgd1.predict(X_test),c=\"Green\",marker=r'$\\clubsuit$')\n",
    "axes[1].grid()\n",
    "axes[1].title.set_text('Actual vs Predicted Prices(SkLearn)')\n",
    "axes[1].set_xlabel('Actual Prices')\n",
    "fig.tight_layout()"
   ]
  },
  {
   "cell_type": "code",
   "execution_count": 263,
   "metadata": {},
   "outputs": [
    {
     "name": "stdout",
     "output_type": "stream",
     "text": [
      "+----------------------+---------------------+----------------------+----------+\n",
      "| SkLearn SGD Weights  |  Custom SGD Weights |      Difference      | % Change |\n",
      "+----------------------+---------------------+----------------------+----------+\n",
      "| -0.4407928207575811  |  -0.344531298466895 | 0.09626152229068607  |   22.0   |\n",
      "|   0.32429668363429   |  0.9985871771152508 |  0.6742904934809608  |  208.0   |\n",
      "| -0.20768168840098153 |  0.4103687510872076 |  0.6180504394881892  |  298.0   |\n",
      "|  0.8061676440258025  |  0.7440187027939518 | 0.062148941231850774 |   8.0    |\n",
      "|  -1.255406282325436  | -2.5346096787139407 |  1.2792033963885048  |  102.0   |\n",
      "|   3.18291373410145   |  1.965206882570354  |  1.217706851531096   |   38.0   |\n",
      "|  0.3045543992250758  |  0.9886634115772923 |  0.6841090123522164  |  225.0   |\n",
      "|  -1.740089669954179  |  -2.923897750323783 |  1.1838080803696038  |   68.0   |\n",
      "|  0.8913587220625535  |  2.092748354208902  |  1.2013896321463484  |  135.0   |\n",
      "|  -0.360261049442896  | -1.2183263724566606 |  0.8580653230137647  |  238.0   |\n",
      "| -1.8675212556931755  |  -2.178842060190374 | 0.31132080449719846  |   17.0   |\n",
      "|  0.9139968496549754  |  0.9608759668000244 |  0.046879117145049   |   5.0    |\n",
      "| -3.9718518151736077  |  -4.864073951758192 |  0.8922221365845839  |   22.0   |\n",
      "+----------------------+---------------------+----------------------+----------+\n"
     ]
    }
   ],
   "source": [
    "Weights_Table=PrettyTable()\n",
    "Weights_Table.field_names=['SkLearn SGD Weights','Custom SGD Weights','Difference','% Change']\n",
    "sum=0\n",
    "\n",
    "# Weights from two numpy arrays\n",
    "for (i,j) in np.nditer([Weights1,Weights2]):\n",
    "    Weights_Table.add_row([i,j,abs(i-j),abs(round(((i-j)/i)*100))])\n",
    "    \n",
    "print(Weights_Table)"
   ]
  },
  {
   "cell_type": "code",
   "execution_count": null,
   "metadata": {},
   "outputs": [],
   "source": []
  }
 ],
 "metadata": {
  "colab": {
   "name": "Untitled3.ipynb",
   "provenance": [],
   "version": "0.3.2"
  },
  "kernelspec": {
   "display_name": "Python 3",
   "language": "python",
   "name": "python3"
  },
  "language_info": {
   "codemirror_mode": {
    "name": "ipython",
    "version": 3
   },
   "file_extension": ".py",
   "mimetype": "text/x-python",
   "name": "python",
   "nbconvert_exporter": "python",
   "pygments_lexer": "ipython3",
   "version": "3.6.5"
  }
 },
 "nbformat": 4,
 "nbformat_minor": 1
}
